{
 "cells": [
  {
   "cell_type": "code",
   "execution_count": 9,
   "id": "bc878fbd",
   "metadata": {},
   "outputs": [
    {
     "name": "stdout",
     "output_type": "stream",
     "text": [
      "['ForEachLine.sh\\n', 'ForEachLine.txt\\n', 'after.txt\\n', 'artur.txt\\n', 'arturVaadine.txt\\n', 'before.txt\\n', 'contributors.txt\\n', 'echo\\n', 'gridafter.txt\\n', 'gridbefore.txt\\n', 'lookup\\n', 'oscar.py\\n']\n",
      "R2R <artur@vaadin.com>;Artur <artur@vaadin.com>;Artur Signell <artur.signell@itmill.com>;Artur Signell <artur@vaadin.com>;R2R <artur@vaadin.com>\n"
     ]
    }
   ],
   "source": [
    "from paramiko import client\n",
    "import paramiko\n",
    "host = \"da0.eecs.utk.edu\"\n",
    "port = 443\n",
    "username = \"KelbakianiIrakli\"\n",
    "password = \"ika\"\n",
    "command = \"ls\"\n",
    "\n",
    "ssh = paramiko.SSHClient()\n",
    "ssh.set_missing_host_key_policy(paramiko.AutoAddPolicy())\n",
    "ssh.connect(host, port, username, password)\n",
    "\n",
    "stdin, stdout, stderr = ssh.exec_command(command)\n",
    "lines = stdout.readlines()\n",
    "print(lines)\n",
    "stdin, stdout, stderr = ssh.exec_command(\"echo 'R2R <artur@vaadin.com>' | ~/lookup/getValues A2a\")\n",
    "lines = stdout.readlines()\n",
    "for i in lines:\n",
    "    print(i.strip())\n",
    "#print(lines)"
   ]
  },
  {
   "cell_type": "code",
   "execution_count": 3,
   "id": "ae67c0b5",
   "metadata": {},
   "outputs": [],
   "source": [
    "array = []\n",
    "localTxt = []"
   ]
  },
  {
   "cell_type": "code",
   "execution_count": null,
   "id": "61a770ee",
   "metadata": {},
   "outputs": [],
   "source": [
    "with open('vaadin_contributors.txt', encoding=\"utf8\") as f:\n",
    "    lines = f.readlines()\n",
    "for i in lines:\n",
    "    array.append(i.strip())\n",
    "print(array)"
   ]
  },
  {
   "cell_type": "code",
   "execution_count": null,
   "id": "9cc335c8",
   "metadata": {},
   "outputs": [],
   "source": [
    "for i in array:\n",
    "    k = \"echo \\\"{0}\\\" | ~/lookup/getValues a2A\".format(i)\n",
    "    print(k)\n",
    "    stdin, stdout, stderr = ssh.exec_command(k)\n",
    "    lines = stdout.readlines()\n",
    "    aliasName = lines[0].split(\";\",1)[1]\n",
    "    if aliasName not in AliasNames:\n",
    "        AliasNames.append(aliasName.strip())"
   ]
  },
  {
   "cell_type": "code",
   "execution_count": null,
   "id": "ac98b6a0",
   "metadata": {},
   "outputs": [],
   "source": [
    "print(AliasNames)"
   ]
  },
  {
   "cell_type": "code",
   "execution_count": null,
   "id": "436504f5",
   "metadata": {},
   "outputs": [],
   "source": [
    "newAliasNames = [x[:-1] for x in AliasNames]"
   ]
  },
  {
   "cell_type": "code",
   "execution_count": null,
   "id": "a20231c9",
   "metadata": {},
   "outputs": [],
   "source": [
    "print(newAliasNames.remove(\"dependabot[bot] <49699333+dependabot[bot]@users.noreply.github.com>\"))"
   ]
  },
  {
   "cell_type": "code",
   "execution_count": null,
   "id": "3defe4d0",
   "metadata": {},
   "outputs": [],
   "source": [
    "stdin, stdout, stderr = ssh.exec_command(\"echo 'dunand <jeffnadeau@gmail.com>' | ~/lookup/getValues A2c\")\n",
    "lines = stdout.readlines()[0].strip()\n",
    "print(lines.split(\";\"))"
   ]
  },
  {
   "cell_type": "code",
   "execution_count": null,
   "id": "defb7447",
   "metadata": {},
   "outputs": [],
   "source": [
    "newAliasNames[3]"
   ]
  },
  {
   "cell_type": "code",
   "execution_count": null,
   "id": "4505ad5b",
   "metadata": {},
   "outputs": [],
   "source": [
    "userCommitDict = {}\n",
    "for i in newAliasNames:\n",
    "    print(i)\n",
    "    stdin, stdout, stderr = ssh.exec_command(\"echo \\\"{0}\\\" | ~/lookup/getValues A2c\".format(i))\n",
    "    stdout = stdout.readlines()\n",
    "    if(len(stdout) == 0):\n",
    "        # This is necessary if user has 1 author name and no alias\n",
    "        stdin, stdout, stderr = ssh.exec_command(\"echo \\\"{0}\\\" | ~/lookup/getValues a2c\".format(i))\n",
    "        stdout = stdout.readlines()\n",
    "        if (len(stdout)== 0):\n",
    "            print(\"Something wrong with the user: \" + i)\n",
    "            continue\n",
    "    UserAndCommits = stdout[0].strip().split(\";\")\n",
    "    userCommitDict[UserAndCommits[0]] = UserAndCommits[1:]"
   ]
  },
  {
   "cell_type": "code",
   "execution_count": 4,
   "id": "1550af90",
   "metadata": {},
   "outputs": [],
   "source": [
    "import pickle\n",
    "\n",
    "#with open('filename.pickle', 'wb') as handle:\n",
    "    #pickle.dump(userCommitDict, handle, protocol=pickle.HIGHEST_PROTOCOL)\n",
    "\n",
    "with open('filename.pickle', 'rb') as handle:\n",
    "    userCommitDict = pickle.load(handle)\n",
    "\n",
    "#print(a == b)"
   ]
  },
  {
   "cell_type": "code",
   "execution_count": 5,
   "id": "9fc56b26",
   "metadata": {},
   "outputs": [
    {
     "name": "stdout",
     "output_type": "stream",
     "text": [
      "2\n"
     ]
    }
   ],
   "source": [
    "stdin, stdout, stderr = ssh.exec_command(\"echo {0} | ssh da4 ~/lookup/cmputeDiff3T.perl\".format(userCommitDict[\"Marlon <marlon@vaadin.com>\"][0]))\n",
    "stdout = stdout.readlines()\n",
    "print(len(stdout))"
   ]
  },
  {
   "cell_type": "code",
   "execution_count": null,
   "id": "142cad84",
   "metadata": {},
   "outputs": [],
   "source": [
    "print(userCommitDict[\"Marlon <marlon@vaadin.com>\"][0])"
   ]
  },
  {
   "cell_type": "code",
   "execution_count": null,
   "id": "c5ec1793",
   "metadata": {},
   "outputs": [],
   "source": [
    "stdin, stdout, stderr = ssh.exec_command(\"echo \\\"{0}\\\" | ~/lookup/getValues A2c\".format(\"Teemu Suo-Anttila <teemusa@vaadin.com>\"))\n",
    "print(len(stdout.readlines()))\n",
    "#print(stdout.readlines()[0].strip().split(\";\"))"
   ]
  },
  {
   "cell_type": "code",
   "execution_count": null,
   "id": "6feb5665",
   "metadata": {},
   "outputs": [],
   "source": [
    "for key,value in userCommitDict.items():\n",
    "    for i in value:\n",
    "        stdin, stdout, stderr = ssh.exec_command(\"echo {0} | ssh da4 ~/lookup/cmputeDiff3T.perl\".format(i))\n",
    "        res = stdout.readlines()\n",
    "        for k in res:\n",
    "            #print(k)\n",
    "            if \".java\" in k:\n",
    "                print(\"java\", end='')\n",
    "                blobInfo = k.split(\";\")\n",
    "                print(blobInfo[-1], blobInfo[-2])\n",
    "                \n",
    "            elif \".py\" in k:\n",
    "                blobInfo = k.split(\";\")\n",
    "                print(blobInfo)\n",
    "                print(\"python\", end='')\n",
    "                \n",
    "            #print(\"-\",end = '')\n",
    "            #if \".py\" in k:\n",
    "                #print(\"Yes\")\n",
    "\n",
    "\n",
    "\n",
    "\n",
    "\n",
    "#for key,value in userCommitDict.items():\n",
    "#    for val in value:\n",
    "#        #print(val)\n",
    "#        stdin, stdout, stderr = ssh.exec_command(\"echo {0} | ssh da4 ~/lookup/cmputeDiff3T.perl\".format(val))\n",
    "#        res = stdout.readlines()\n",
    "#        print(res)"
   ]
  },
  {
   "cell_type": "code",
   "execution_count": null,
   "id": "f1d429a5",
   "metadata": {},
   "outputs": [],
   "source": [
    "for key in userCommitDict.keys():\n",
    "    print(key)"
   ]
  },
  {
   "cell_type": "code",
   "execution_count": null,
   "id": "ea05312a",
   "metadata": {},
   "outputs": [],
   "source": [
    "\n",
    "import threading\n",
    "import time\n",
    "\n",
    "\n",
    "class MyThread(threading.Thread):\n",
    "    def run(self):                                         # Default called function with mythread.start()\n",
    "        print(\"{} started!\".format(self.getName()))        # \"Thread-x started!\"\n",
    "        time.sleep(1)                                      # Pretend to work for a second\n",
    "        print(\"{} finished!\".format(self.getName()))       # \"Thread-x finished!\"\n",
    "\n",
    "def main():\n",
    "    for x in range(4):                                     # Four times...\n",
    "        mythread = MyThread(name = \"Thread-{}\".format(x))  # ...Instantiate a thread and pass a unique ID to it\n",
    "        mythread.start()                                   # ...Start the thread, run method will be invoked\n",
    "        time.sleep(.9)                                     # ...Wait 0.9 seconds before starting another\n",
    "\n",
    "if __name__ == '__main__':\n",
    "    main()"
   ]
  },
  {
   "cell_type": "code",
   "execution_count": null,
   "id": "80b3b170",
   "metadata": {},
   "outputs": [],
   "source": [
    "for key,value in userCommitDict.items():\n",
    "    for i in value:\n",
    "        stdin, stdout, stderr = ssh.exec_command(\"echo {0} | ssh da4 ~/lookup/cmputeDiff3T.perl\".format(i))\n",
    "        res = stdout.readlines()\n",
    "        for k in res:\n",
    "            print(k)\n",
    "            #if \".java\" in k:\n",
    "                #print(\"java\", end='')\n",
    "            #elif \".py\" in k:\n",
    "                #print(\"python\", end='')\n",
    "            #print(\"-\",end = '')\n",
    "            #if \".py\" in k:\n",
    "                #print(\"Yes\")\n",
    "                "
   ]
  },
  {
   "cell_type": "code",
   "execution_count": null,
   "id": "7b4ff849",
   "metadata": {},
   "outputs": [],
   "source": []
  }
 ],
 "metadata": {
  "kernelspec": {
   "display_name": "Python 3 (ipykernel)",
   "language": "python",
   "name": "python3"
  },
  "language_info": {
   "codemirror_mode": {
    "name": "ipython",
    "version": 3
   },
   "file_extension": ".py",
   "mimetype": "text/x-python",
   "name": "python",
   "nbconvert_exporter": "python",
   "pygments_lexer": "ipython3",
   "version": "3.9.7"
  }
 },
 "nbformat": 4,
 "nbformat_minor": 5
}
