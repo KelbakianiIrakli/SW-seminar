{
 "cells": [
  {
   "cell_type": "code",
   "execution_count": 5,
   "id": "bc878fbd",
   "metadata": {},
   "outputs": [
    {
     "name": "stdout",
     "output_type": "stream",
     "text": [
      "['ForEachLine.sh\\n', 'ForEachLine.txt\\n', 'after.txt\\n', 'artur.txt\\n', 'arturVaadine.txt\\n', 'before.txt\\n', 'contributors.txt\\n', 'echo\\n', 'gridafter.txt\\n', 'gridbefore.txt\\n', 'lookup\\n', 'oscar.py\\n']\n",
      "Jani Laakso <jani.laakso@itmill.com>\n",
      "John Ahlroos <john@vaadin.com>\n"
     ]
    }
   ],
   "source": [
    "from paramiko import client\n",
    "import paramiko\n",
    "host = \"da0.eecs.utk.edu\"\n",
    "port = 443\n",
    "username = \"KelbakianiIrakli\"\n",
    "password = \"\"\n",
    "command = \"ls\"\n",
    "\n",
    "ssh = paramiko.SSHClient()\n",
    "ssh.set_missing_host_key_policy(paramiko.AutoAddPolicy())\n",
    "ssh.connect(host, port, username, password)\n",
    "\n",
    "stdin, stdout, stderr = ssh.exec_command(command)\n",
    "lines = stdout.readlines()\n",
    "print(lines)\n",
    "stdin, stdout, stderr = ssh.exec_command(\"cat contributors.txt\")\n",
    "lines = stdout.readlines()\n",
    "for i in lines:\n",
    "    print(i.strip())\n",
    "#print(lines)"
   ]
  },
  {
   "cell_type": "code",
   "execution_count": null,
   "id": "ae67c0b5",
   "metadata": {},
   "outputs": [],
   "source": []
  }
 ],
 "metadata": {
  "kernelspec": {
   "display_name": "Python 3 (ipykernel)",
   "language": "python",
   "name": "python3"
  },
  "language_info": {
   "codemirror_mode": {
    "name": "ipython",
    "version": 3
   },
   "file_extension": ".py",
   "mimetype": "text/x-python",
   "name": "python",
   "nbconvert_exporter": "python",
   "pygments_lexer": "ipython3",
   "version": "3.9.7"
  }
 },
 "nbformat": 4,
 "nbformat_minor": 5
}
